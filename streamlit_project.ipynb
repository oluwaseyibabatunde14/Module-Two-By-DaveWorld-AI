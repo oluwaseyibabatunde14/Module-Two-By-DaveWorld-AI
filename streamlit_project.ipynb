{
 "cells": [
  {
   "cell_type": "markdown",
   "metadata": {
    "id": "gEIrWxN-jOzu"
   },
   "source": [
    "# Streamlit Project\n",
    "For this Streamlit project, you’ll replicate a user interface using Streamlit. This exercise will assess your ability to create interactive web applications for data visualization and presentation. Make sure to pay attention to layout, responsiveness, and interactivity as you replicate the UI. If you find this challenging, revisit the Streamlit documentation , tutorials, and examples provided during our class and feel free to ask questions if you have any.\n",
    "\n",
    "This project is a hands-on way to demonstrate your proficiency in building engaging and functional data apps."
   ]
  },
  {
   "cell_type": "markdown",
   "metadata": {
    "id": "Cz2cMVZ4jOzw"
   },
   "source": [
    "### **Question:**\n",
    "\n",
    "You are building a Streamlit app where users can input student names and their scores, and then filter students based on a minimum score. The application should allow users to:\n",
    "\n",
    "1. Input student data (name and score).\n",
    "2. Store the data and display a table with the student names and their scores.\n",
    "3. Filter the student data based on a minimum score provided by the user.\n",
    "\n",
    "Answer the following questions and complete the tasks:\n",
    "\n",
    "1. **Task 1:** Implement a Streamlit app where the user can input student names and scores, store the data, and display it in a table. Use an input box for the name and a number input for the score. Ensure the list of students is stored persistently using `st.session_state`.\n",
    "\n",
    "2. **Task 2:** Add a slider that allows users to filter students by a minimum score. The table should only display students who meet the minimum score criterion.\n",
    "\n",
    "---\n",
    "\n",
    "### **Hints:**\n",
    "\n",
    "1. **Adding Student Data:**\n",
    "   - Use `st.text_input` for the student's name and `st.number_input` for the score.\n",
    "   - Use `st.session_state` to store the student data so it persists when you refresh the page.\n",
    "   - You can use the `st.button` function to trigger the action of adding the student to the list.\n",
    "   \n",
    "   **Hint for Task 1:**\n",
    "   - Check if `st.session_state.students` is initialized. If not, initialize it as an empty list.\n",
    "   - When the user presses the \"Add Student\" button, append the student’s name and score to the list in `st.session_state.students`.\n",
    "\n",
    "2. **Displaying Data:**\n",
    "   - After adding students, use `pd.DataFrame` to convert the list of students into a table and display it using `st.write`.\n",
    "\n",
    "   **Hint for Task 2:**\n",
    "   - After the students are displayed, use a slider (`st.slider`) to allow the user to filter students by score.\n",
    "   - Use pandas DataFrame filtering to display only the students who meet the minimum score threshold set by the slider.\n",
    "\n",
    "3. **Persistent Data with `st.session_state`:**\n",
    "   - `st.session_state` helps in maintaining the state of the application even after it is reloaded. It is important when storing user input persistently.\n",
    "   - Initialize `st.session_state.students` if it’s not already initialized to store student data.\n",
    "\n",
    "---\n",
    "### **Image Folder Preview:**\n",
    "\n",
    "There is an image folder called `image` that displays how the site would look like. Below is the preview for each section:\n",
    "\n",
    "1. **student tracker landing page image:**\n",
    "   - This image shows how the landing page should appear when you first visit the app.\n",
    "\n",
    "2. **adding user input image:**\n",
    "   - This image shows how the user input fields should look like for adding the student data.\n",
    "\n",
    "3. **user input image:**\n",
    "   - This image shows how the form will look after the user enters their data.\n",
    "\n",
    "4. **add new student image:**\n",
    "   - This image shows how the page should look after a new student is successfully added.\n",
    "\n",
    "\n",
    "\n",
    "This will test your ability to work with user inputs, data storage, and basic filtering techniques in Streamlit.\n",
    "Go ahead to create your python application and start building!\n"
   ]
  }
 ],
 "metadata": {
  "colab": {
   "provenance": []
  },
  "language_info": {
   "name": "python"
  }
 },
 "nbformat": 4,
 "nbformat_minor": 0
}
